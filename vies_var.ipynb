{
 "cells": [
  {
   "cell_type": "code",
   "execution_count": 1,
   "metadata": {},
   "outputs": [
    {
     "name": "stdout",
     "output_type": "stream",
     "text": [
      "Requirement already satisfied: python-bcb in c:\\users\\pedro\\anaconda3\\lib\\site-packages (0.2.0)\n",
      "Requirement already satisfied: httpx<0.25.0,>=0.24.0 in c:\\users\\pedro\\anaconda3\\lib\\site-packages (from python-bcb) (0.24.1)\n",
      "Requirement already satisfied: lxml<5.0.0,>=4.9.2 in c:\\users\\pedro\\anaconda3\\lib\\site-packages (from python-bcb) (4.9.3)\n",
      "Requirement already satisfied: pandas<3.0.0,>=2.0.0 in c:\\users\\pedro\\anaconda3\\lib\\site-packages (from python-bcb) (2.1.4)\n",
      "Requirement already satisfied: requests<3.0.0,>=2.31.0 in c:\\users\\pedro\\anaconda3\\lib\\site-packages (from python-bcb) (2.31.0)\n",
      "Requirement already satisfied: certifi in c:\\users\\pedro\\anaconda3\\lib\\site-packages (from httpx<0.25.0,>=0.24.0->python-bcb) (2024.2.2)\n",
      "Requirement already satisfied: httpcore<0.18.0,>=0.15.0 in c:\\users\\pedro\\anaconda3\\lib\\site-packages (from httpx<0.25.0,>=0.24.0->python-bcb) (0.17.3)\n",
      "Requirement already satisfied: idna in c:\\users\\pedro\\anaconda3\\lib\\site-packages (from httpx<0.25.0,>=0.24.0->python-bcb) (3.4)\n",
      "Requirement already satisfied: sniffio in c:\\users\\pedro\\anaconda3\\lib\\site-packages (from httpx<0.25.0,>=0.24.0->python-bcb) (1.3.0)\n",
      "Requirement already satisfied: numpy<2,>=1.23.2 in c:\\users\\pedro\\anaconda3\\lib\\site-packages (from pandas<3.0.0,>=2.0.0->python-bcb) (1.26.4)\n",
      "Requirement already satisfied: python-dateutil>=2.8.2 in c:\\users\\pedro\\appdata\\roaming\\python\\python311\\site-packages (from pandas<3.0.0,>=2.0.0->python-bcb) (2.8.2)\n",
      "Requirement already satisfied: pytz>=2020.1 in c:\\users\\pedro\\anaconda3\\lib\\site-packages (from pandas<3.0.0,>=2.0.0->python-bcb) (2023.3.post1)\n",
      "Requirement already satisfied: tzdata>=2022.1 in c:\\users\\pedro\\anaconda3\\lib\\site-packages (from pandas<3.0.0,>=2.0.0->python-bcb) (2023.3)\n",
      "Requirement already satisfied: charset-normalizer<4,>=2 in c:\\users\\pedro\\anaconda3\\lib\\site-packages (from requests<3.0.0,>=2.31.0->python-bcb) (2.0.4)\n",
      "Requirement already satisfied: urllib3<3,>=1.21.1 in c:\\users\\pedro\\anaconda3\\lib\\site-packages (from requests<3.0.0,>=2.31.0->python-bcb) (2.0.7)\n",
      "Requirement already satisfied: h11<0.15,>=0.13 in c:\\users\\pedro\\anaconda3\\lib\\site-packages (from httpcore<0.18.0,>=0.15.0->httpx<0.25.0,>=0.24.0->python-bcb) (0.14.0)\n",
      "Requirement already satisfied: anyio<5.0,>=3.0 in c:\\users\\pedro\\anaconda3\\lib\\site-packages (from httpcore<0.18.0,>=0.15.0->httpx<0.25.0,>=0.24.0->python-bcb) (4.2.0)\n",
      "Requirement already satisfied: six>=1.5 in c:\\users\\pedro\\appdata\\roaming\\python\\python311\\site-packages (from python-dateutil>=2.8.2->pandas<3.0.0,>=2.0.0->python-bcb) (1.16.0)\n"
     ]
    }
   ],
   "source": [
    "# Instalar Bibliotecas \n",
    "!pip install python-bcb"
   ]
  },
  {
   "cell_type": "code",
   "execution_count": 6,
   "metadata": {},
   "outputs": [],
   "source": [
    "# Importar Bibliotecas \n",
    "from bcb import sgs\n",
    "import pandas as pd\n",
    "import statsmodels.api as sm\n",
    "import statsmodels.formula.api as smf\n",
    "from statsmodels.tsa.api import ExponentialSmoothing\n",
    "from statsmodels.tools.eval_measures import rmse"
   ]
  },
  {
   "cell_type": "markdown",
   "metadata": {},
   "source": [
    "Coleta de dados"
   ]
  },
  {
   "cell_type": "code",
   "execution_count": 8,
   "metadata": {},
   "outputs": [
    {
     "data": {
      "text/html": [
       "<div>\n",
       "<style scoped>\n",
       "    .dataframe tbody tr th:only-of-type {\n",
       "        vertical-align: middle;\n",
       "    }\n",
       "\n",
       "    .dataframe tbody tr th {\n",
       "        vertical-align: top;\n",
       "    }\n",
       "\n",
       "    .dataframe thead th {\n",
       "        text-align: right;\n",
       "    }\n",
       "</style>\n",
       "<table border=\"1\" class=\"dataframe\">\n",
       "  <thead>\n",
       "    <tr style=\"text-align: right;\">\n",
       "      <th></th>\n",
       "      <th>caged</th>\n",
       "    </tr>\n",
       "    <tr>\n",
       "      <th>Date</th>\n",
       "      <th></th>\n",
       "    </tr>\n",
       "  </thead>\n",
       "  <tbody>\n",
       "    <tr>\n",
       "      <th>1992-01-01</th>\n",
       "      <td>9900801</td>\n",
       "    </tr>\n",
       "    <tr>\n",
       "      <th>1992-02-01</th>\n",
       "      <td>9897618</td>\n",
       "    </tr>\n",
       "    <tr>\n",
       "      <th>1992-03-01</th>\n",
       "      <td>9884230</td>\n",
       "    </tr>\n",
       "    <tr>\n",
       "      <th>1992-04-01</th>\n",
       "      <td>9878410</td>\n",
       "    </tr>\n",
       "    <tr>\n",
       "      <th>1992-05-01</th>\n",
       "      <td>9892180</td>\n",
       "    </tr>\n",
       "    <tr>\n",
       "      <th>...</th>\n",
       "      <td>...</td>\n",
       "    </tr>\n",
       "    <tr>\n",
       "      <th>2023-11-01</th>\n",
       "      <td>22310194</td>\n",
       "    </tr>\n",
       "    <tr>\n",
       "      <th>2023-12-01</th>\n",
       "      <td>22116274</td>\n",
       "    </tr>\n",
       "    <tr>\n",
       "      <th>2024-01-01</th>\n",
       "      <td>22191454</td>\n",
       "    </tr>\n",
       "    <tr>\n",
       "      <th>2024-02-01</th>\n",
       "      <td>22386838</td>\n",
       "    </tr>\n",
       "    <tr>\n",
       "      <th>2024-03-01</th>\n",
       "      <td>22535560</td>\n",
       "    </tr>\n",
       "  </tbody>\n",
       "</table>\n",
       "<p>387 rows × 1 columns</p>\n",
       "</div>"
      ],
      "text/plain": [
       "               caged\n",
       "Date                \n",
       "1992-01-01   9900801\n",
       "1992-02-01   9897618\n",
       "1992-03-01   9884230\n",
       "1992-04-01   9878410\n",
       "1992-05-01   9892180\n",
       "...              ...\n",
       "2023-11-01  22310194\n",
       "2023-12-01  22116274\n",
       "2024-01-01  22191454\n",
       "2024-02-01  22386838\n",
       "2024-03-01  22535560\n",
       "\n",
       "[387 rows x 1 columns]"
      ]
     },
     "execution_count": 8,
     "metadata": {},
     "output_type": "execute_result"
    }
   ],
   "source": [
    "dados_brutos = sgs.get(\n",
    "    codes = {\"caged\": 28772},\n",
    "    end = \"2024-06-01\"\n",
    ")\n",
    "dados_brutos"
   ]
  },
  {
   "cell_type": "markdown",
   "metadata": {},
   "source": [
    "Modelagem "
   ]
  },
  {
   "cell_type": "code",
   "execution_count": 17,
   "metadata": {},
   "outputs": [
    {
     "name": "stdout",
     "output_type": "stream",
     "text": [
      "               caged  trend\n",
      "Date                       \n",
      "2022-11-01  21452481  371.0\n",
      "2022-12-01  21245361  372.0\n",
      "2023-01-01  21288006  373.0\n",
      "2023-02-01  21459553  374.0\n",
      "2023-03-01  21582700  375.0\n",
      "               caged  trend\n",
      "Date                       \n",
      "2023-04-01  21688198    376\n",
      "2023-05-01  21772731    377\n",
      "2023-06-01  21847751    378\n",
      "2023-07-01  21903784    379\n",
      "2023-08-01  22018437    380\n",
      "2023-09-01  22112663    381\n",
      "2023-10-01  22220362    382\n",
      "2023-11-01  22310194    383\n",
      "2023-12-01  22116274    384\n",
      "2024-01-01  22191454    385\n",
      "2024-02-01  22386838    386\n",
      "2024-03-01  22535560    387\n"
     ]
    }
   ],
   "source": [
    "teste = dados_brutos.tail(12)\n",
    "treino = sm.tsa.add_trend(dados_brutos.query(\"Date not in @teste.index\"), trend = \"t\")\n",
    "\n",
    "teste = teste.assign(trend = range(int(treino.trend.max()+1), int(treino.trend.max()+1+12)))\n",
    "\n",
    "print(treino.tail())\n",
    "print(teste)"
   ]
  },
  {
   "cell_type": "code",
   "execution_count": 18,
   "metadata": {},
   "outputs": [
    {
     "name": "stderr",
     "output_type": "stream",
     "text": [
      "c:\\Users\\pedro\\anaconda3\\Lib\\site-packages\\statsmodels\\tsa\\base\\tsa_model.py:473: ValueWarning: No frequency information was provided, so inferred frequency MS will be used.\n",
      "  self._init_dates(dates, freq)\n",
      "c:\\Users\\pedro\\anaconda3\\Lib\\site-packages\\statsmodels\\tsa\\holtwinters\\model.py:917: ConvergenceWarning: Optimization failed to converge. Check mle_retvals.\n",
      "  warnings.warn(\n"
     ]
    }
   ],
   "source": [
    "# Estima modelos de exemplo\n",
    "mqo = smf.ols(formula = \"caged ~ trend\", data = treino).fit()\n",
    "ets = ExponentialSmoothing(treino.caged).fit()"
   ]
  },
  {
   "cell_type": "markdown",
   "metadata": {},
   "source": [
    "Produzindo Previsões "
   ]
  },
  {
   "cell_type": "code",
   "execution_count": 20,
   "metadata": {},
   "outputs": [
    {
     "name": "stdout",
     "output_type": "stream",
     "text": [
      "Date\n",
      "2023-04-01    2.092876e+07\n",
      "2023-05-01    2.096372e+07\n",
      "2023-06-01    2.099868e+07\n",
      "2023-07-01    2.103364e+07\n",
      "2023-08-01    2.106860e+07\n",
      "2023-09-01    2.110355e+07\n",
      "2023-10-01    2.113851e+07\n",
      "2023-11-01    2.117347e+07\n",
      "2023-12-01    2.120843e+07\n",
      "2024-01-01    2.124339e+07\n",
      "2024-02-01    2.127835e+07\n",
      "2024-03-01    2.131331e+07\n",
      "dtype: float64\n",
      "2023-04-01    2.158208e+07\n",
      "2023-05-01    2.158208e+07\n",
      "2023-06-01    2.158208e+07\n",
      "2023-07-01    2.158208e+07\n",
      "2023-08-01    2.158208e+07\n",
      "2023-09-01    2.158208e+07\n",
      "2023-10-01    2.158208e+07\n",
      "2023-11-01    2.158208e+07\n",
      "2023-12-01    2.158208e+07\n",
      "2024-01-01    2.158208e+07\n",
      "2024-02-01    2.158208e+07\n",
      "2024-03-01    2.158208e+07\n",
      "Freq: MS, dtype: float64\n"
     ]
    }
   ],
   "source": [
    "prev_mqo = mqo.predict(teste)\n",
    "print(prev_mqo)\n",
    "prev_ets = ets.forecast(12)\n",
    "print(prev_ets)"
   ]
  },
  {
   "cell_type": "code",
   "execution_count": 22,
   "metadata": {},
   "outputs": [
    {
     "name": "stdout",
     "output_type": "stream",
     "text": [
      "Date\n",
      "2022-11-01    21452481\n",
      "2022-12-01    21245361\n",
      "2023-01-01    21288006\n",
      "2023-02-01    21459553\n",
      "2023-03-01    21582700\n",
      "Name: caged, dtype: int64\n",
      "Date\n",
      "2022-11-01    2.075396e+07\n",
      "2022-12-01    2.078892e+07\n",
      "2023-01-01    2.082388e+07\n",
      "2023-02-01    2.085884e+07\n",
      "2023-03-01    2.089380e+07\n",
      "dtype: float64\n"
     ]
    }
   ],
   "source": [
    "print(treino.caged.tail())\n",
    "print(mqo.fittedvalues.tail())"
   ]
  },
  {
   "cell_type": "code",
   "execution_count": 23,
   "metadata": {},
   "outputs": [
    {
     "data": {
      "text/html": [
       "<div>\n",
       "<style scoped>\n",
       "    .dataframe tbody tr th:only-of-type {\n",
       "        vertical-align: middle;\n",
       "    }\n",
       "\n",
       "    .dataframe tbody tr th {\n",
       "        vertical-align: top;\n",
       "    }\n",
       "\n",
       "    .dataframe thead th {\n",
       "        text-align: right;\n",
       "    }\n",
       "</style>\n",
       "<table border=\"1\" class=\"dataframe\">\n",
       "  <thead>\n",
       "    <tr style=\"text-align: right;\">\n",
       "      <th></th>\n",
       "      <th>Amostra</th>\n",
       "      <th>Modelo</th>\n",
       "      <th>RMSE</th>\n",
       "    </tr>\n",
       "  </thead>\n",
       "  <tbody>\n",
       "    <tr>\n",
       "      <th>0</th>\n",
       "      <td>Treino</td>\n",
       "      <td>MQO</td>\n",
       "      <td>1.023622e+06</td>\n",
       "    </tr>\n",
       "    <tr>\n",
       "      <th>1</th>\n",
       "      <td>Treino</td>\n",
       "      <td>ETS</td>\n",
       "      <td>7.563570e+04</td>\n",
       "    </tr>\n",
       "    <tr>\n",
       "      <th>2</th>\n",
       "      <td>Teste</td>\n",
       "      <td>MQO</td>\n",
       "      <td>9.805606e+05</td>\n",
       "    </tr>\n",
       "    <tr>\n",
       "      <th>3</th>\n",
       "      <td>Teste</td>\n",
       "      <td>ETS</td>\n",
       "      <td>5.660258e+05</td>\n",
       "    </tr>\n",
       "  </tbody>\n",
       "</table>\n",
       "</div>"
      ],
      "text/plain": [
       "  Amostra Modelo          RMSE\n",
       "0  Treino    MQO  1.023622e+06\n",
       "1  Treino    ETS  7.563570e+04\n",
       "2   Teste    MQO  9.805606e+05\n",
       "3   Teste    ETS  5.660258e+05"
      ]
     },
     "execution_count": 23,
     "metadata": {},
     "output_type": "execute_result"
    }
   ],
   "source": [
    "# Calcula métricas de acurácia\n",
    "pd.DataFrame(\n",
    "    {\n",
    "        \"Amostra\": [\"Treino\", \"Treino\", \"Teste\", \"Teste\"],\n",
    "        \"Modelo\": [\"MQO\", \"ETS\", \"MQO\", \"ETS\"],\n",
    "        \"RMSE\": [\n",
    "            rmse(treino.caged, mqo.fittedvalues), rmse(treino.caged, ets.fittedvalues),\n",
    "            rmse(teste.caged, prev_mqo), rmse(teste.caged, prev_ets)\n",
    "            ]\n",
    "    }\n",
    ")"
   ]
  }
 ],
 "metadata": {
  "kernelspec": {
   "display_name": "base",
   "language": "python",
   "name": "python3"
  },
  "language_info": {
   "codemirror_mode": {
    "name": "ipython",
    "version": 3
   },
   "file_extension": ".py",
   "mimetype": "text/x-python",
   "name": "python",
   "nbconvert_exporter": "python",
   "pygments_lexer": "ipython3",
   "version": "3.11.7"
  }
 },
 "nbformat": 4,
 "nbformat_minor": 2
}
